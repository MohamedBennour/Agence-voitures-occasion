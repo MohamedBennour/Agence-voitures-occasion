{
 "cells": [
  {
   "cell_type": "code",
   "execution_count": 1,
   "id": "e9f38e7a",
   "metadata": {},
   "outputs": [],
   "source": [
    "import os"
   ]
  },
  {
   "cell_type": "code",
   "execution_count": 12,
   "id": "ab0235dd",
   "metadata": {},
   "outputs": [],
   "source": [
    "path =\"C:\\\\Users\\\\nafkh\\\\OneDrive\\\\Bureau\\\\Agence-voitures-occasion\\\\voitures_images\""
   ]
  },
  {
   "cell_type": "code",
   "execution_count": 13,
   "id": "9b32bffb",
   "metadata": {},
   "outputs": [
    {
     "data": {
      "text/plain": [
       "'C:\\\\Users\\\\nafkh\\\\OneDrive\\\\Bureau\\\\Agence-voitures-occasion\\\\voitures_images'"
      ]
     },
     "execution_count": 13,
     "metadata": {},
     "output_type": "execute_result"
    }
   ],
   "source": [
    "path"
   ]
  },
  {
   "cell_type": "code",
   "execution_count": 55,
   "id": "ffb4503e",
   "metadata": {},
   "outputs": [],
   "source": [
    "chemins = os.listdir(path)"
   ]
  },
  {
   "cell_type": "code",
   "execution_count": 58,
   "id": "1fa7b2ae",
   "metadata": {},
   "outputs": [],
   "source": [
    "from skimage.io import imread\n",
    "from skimage.color import rgb2gray\n",
    "from skimage.transform import resize\n",
    "import numpy as np"
   ]
  },
  {
   "cell_type": "code",
   "execution_count": 102,
   "id": "977929ec",
   "metadata": {},
   "outputs": [
    {
     "data": {
      "text/plain": [
       "(0,)"
      ]
     },
     "execution_count": 102,
     "metadata": {},
     "output_type": "execute_result"
    }
   ],
   "source": [
    "images = np.array([])\n",
    "images.shape"
   ]
  },
  {
   "cell_type": "code",
   "execution_count": 106,
   "id": "d47512bf",
   "metadata": {},
   "outputs": [
    {
     "name": "stdout",
     "output_type": "stream",
     "text": [
      "1.jpg\n",
      "10.jpg\n",
      "11.jpg\n",
      "12.jpg\n",
      "13.jpg\n",
      "14.jpg\n",
      "15.jpg\n",
      "2.jpg\n",
      "3.jpg\n",
      "4.jpg\n",
      "5.jpg\n",
      "6.jpg\n",
      "7.jpg\n",
      "8.jpg\n",
      "9.jpg\n"
     ]
    }
   ],
   "source": [
    "for im in chemins:\n",
    "    I = imread(path+'\\\\'+im)\n",
    "    print(im)\n",
    "    gray_image = rgb2gray(I)\n",
    "    I1 = resize(gray_image,(20,20))\n",
    "    I1 = I1.reshape(-1)\n",
    "    np.r_[images,I1]"
   ]
  },
  {
   "cell_type": "code",
   "execution_count": 108,
   "id": "3584b381",
   "metadata": {},
   "outputs": [
    {
     "data": {
      "text/plain": [
       "array([], dtype=float64)"
      ]
     },
     "execution_count": 108,
     "metadata": {},
     "output_type": "execute_result"
    }
   ],
   "source": [
    "images"
   ]
  },
  {
   "cell_type": "code",
   "execution_count": 46,
   "id": "db7f7dd8",
   "metadata": {},
   "outputs": [
    {
     "data": {
      "text/plain": [
       "(800, 1067, 3)"
      ]
     },
     "execution_count": 46,
     "metadata": {},
     "output_type": "execute_result"
    }
   ],
   "source": [
    "I = imread(path+'\\\\1.jpg')\n",
    "I.shape"
   ]
  },
  {
   "cell_type": "code",
   "execution_count": 47,
   "id": "0fc30a4b",
   "metadata": {},
   "outputs": [],
   "source": [
    "from skimage.color import rgb2gray"
   ]
  },
  {
   "cell_type": "code",
   "execution_count": 49,
   "id": "4f06e685",
   "metadata": {},
   "outputs": [
    {
     "data": {
      "text/plain": [
       "(800, 1067)"
      ]
     },
     "execution_count": 49,
     "metadata": {},
     "output_type": "execute_result"
    }
   ],
   "source": [
    "gray_image = rgb2gray(I)\n",
    "gray_image.shape"
   ]
  },
  {
   "cell_type": "code",
   "execution_count": 50,
   "id": "28ac4f0c",
   "metadata": {},
   "outputs": [],
   "source": [
    "import matplotlib.pyplot as plt"
   ]
  },
  {
   "cell_type": "code",
   "execution_count": 51,
   "id": "ed468266",
   "metadata": {},
   "outputs": [],
   "source": [
    "from skimage.transform import resize"
   ]
  },
  {
   "cell_type": "code",
   "execution_count": 52,
   "id": "0adb10bd",
   "metadata": {},
   "outputs": [
    {
     "name": "stdout",
     "output_type": "stream",
     "text": [
      "(20, 20)\n"
     ]
    },
    {
     "data": {
      "text/plain": [
       "<matplotlib.image.AxesImage at 0x110b1157c70>"
      ]
     },
     "execution_count": 52,
     "metadata": {},
     "output_type": "execute_result"
    },
    {
     "data": {
      "image/png": "[encoded data removed]",
      "text/plain": [
       "<Figure size 640x480 with 1 Axes>"
      ]
     },
     "metadata": {},
     "output_type": "display_data"
    }
   ],
   "source": [
    "I1 = resize(gray_image,(20,20))\n",
    "print(I1.shape)\n",
    "plt.imshow(I1)"
   ]
  },
  {
   "cell_type": "code",
   "execution_count": 54,
   "id": "cc915b06",
   "metadata": {},
   "outputs": [
    {
     "data": {
      "text/plain": [
       "(400,)"
      ]
     },
     "execution_count": 54,
     "metadata": {},
     "output_type": "execute_result"
    }
   ],
   "source": [
    "I1 = I1.reshape(-1)\n",
    "\n",
    "I1.shape"
   ]
  },
  {
   "cell_type": "code",
   "execution_count": 39,
   "id": "c68cd9fc",
   "metadata": {},
   "outputs": [],
   "source": [
    "I1 = I1.flatten()"
   ]
  },
  {
   "cell_type": "code",
   "execution_count": 42,
   "id": "d5a7feda",
   "metadata": {},
   "outputs": [
    {
     "data": {
      "text/plain": [
       "(400,)"
      ]
     },
     "execution_count": 42,
     "metadata": {},
     "output_type": "execute_result"
    }
   ],
   "source": [
    "I1\n",
    "I1.shape"
   ]
  }
 ],
 "metadata": {
  "kernelspec": {
   "display_name": "Python 3 (ipykernel)",
   "language": "python",
   "name": "python3"
  },
  "language_info": {
   "codemirror_mode": {
    "name": "ipython",
    "version": 3
   },
   "file_extension": ".py",
   "mimetype": "text/x-python",
   "name": "python",
   "nbconvert_exporter": "python",
   "pygments_lexer": "ipython3",
   "version": "3.9.13"
  }
 },
 "nbformat": 4,
 "nbformat_minor": 5
}
