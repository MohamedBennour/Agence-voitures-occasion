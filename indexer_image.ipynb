{
 "cells": [
  {
   "cell_type": "code",
   "execution_count": 5,
   "id": "152742a3",
   "metadata": {},
   "outputs": [],
   "source": [
    "import cv2\n",
    "import numpy as np\n",
    "from imutils import paths\n",
    "from tensorflow.keras.preprocessing.image import load_img\n",
    "from tensorflow.keras.preprocessing.image import img_to_array"
   ]
  },
  {
   "cell_type": "code",
   "execution_count": 2,
   "id": "155448c8",
   "metadata": {},
   "outputs": [],
   "source": [
    "PATH = \"C:\\\\Users\\\\Bennour\\\\Desktop\\\\Python_data_science\\\\voitures_images\""
   ]
  },
  {
   "cell_type": "code",
   "execution_count": 15,
   "id": "9c417a20",
   "metadata": {},
   "outputs": [],
   "source": [
    "imagePaths = list(paths.list_images(PATH))\n",
    "imagePaths\n",
    "data = []\n",
    "for imagePath in imagePaths:\n",
    "    image = load_img(imagePath, color_mode='grayscale', target_size=(224, 224))\n",
    "    image = img_to_array(image)\n",
    "    \n",
    "    data.append(image)\n",
    "    \n",
    "data = np.array(data, dtype=\"float32\")\n"
   ]
  },
  {
   "cell_type": "code",
   "execution_count": 16,
   "id": "91f81189",
   "metadata": {},
   "outputs": [],
   "source": [
    "TARGET_PATH = \"C:\\\\Users\\\\Bennour\\\\Desktop\\\\Python_data_science\\\\target.jpeg\"\n",
    "target_image = load_img(TARGET_PATH, color_mode='grayscale', target_size=(224, 224))\n",
    "target_vector = img_to_array(target_image)\n",
    "target_vector = target_vector.reshape(1, -1)"
   ]
  }
 ],
 "metadata": {
  "kernelspec": {
   "display_name": "opencv_env",
   "language": "python",
   "name": "python3"
  },
  "language_info": {
   "codemirror_mode": {
    "name": "ipython",
    "version": 3
   },
   "file_extension": ".py",
   "mimetype": "text/x-python",
   "name": "python",
   "nbconvert_exporter": "python",
   "pygments_lexer": "ipython3",
   "version": "3.10.6"
  },
  "vscode": {
   "interpreter": {
    "hash": "fb6fa332371bc522d643c7a8521215c7ab9fc77042fe272fd2c96ae478ff98c5"
   }
  }
 },
 "nbformat": 4,
 "nbformat_minor": 5
}
