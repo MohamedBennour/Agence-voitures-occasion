{
 "cells": [
  {
   "cell_type": "code",
   "execution_count": 15,
   "id": "e9f38e7a",
   "metadata": {},
   "outputs": [],
   "source": [
    "import os"
   ]
  },
  {
   "cell_type": "code",
   "execution_count": 16,
   "id": "ab0235dd",
   "metadata": {},
   "outputs": [],
   "source": [
    "path =\"C:\\\\Users\\\\nafkh\\\\OneDrive\\\\Bureau\\\\Agence-voitures-occasion\\\\voitures_images\""
   ]
  },
  {
   "cell_type": "code",
   "execution_count": 17,
   "id": "9b32bffb",
   "metadata": {},
   "outputs": [
    {
     "data": {
      "text/plain": [
       "'C:\\\\Users\\\\nafkh\\\\OneDrive\\\\Bureau\\\\Agence-voitures-occasion\\\\voitures_images'"
      ]
     },
     "execution_count": 17,
     "metadata": {},
     "output_type": "execute_result"
    }
   ],
   "source": [
    "path"
   ]
  },
  {
   "cell_type": "code",
   "execution_count": 18,
   "id": "ffb4503e",
   "metadata": {},
   "outputs": [],
   "source": [
    "chemins = os.listdir(path)"
   ]
  },
  {
   "cell_type": "code",
   "execution_count": 19,
   "id": "1fa7b2ae",
   "metadata": {},
   "outputs": [],
   "source": [
    "from skimage.io import imread\n",
    "from skimage.color import rgb2gray\n",
    "from skimage.transform import resize\n",
    "import numpy as np"
   ]
  },
  {
   "cell_type": "code",
   "execution_count": 20,
   "id": "977929ec",
   "metadata": {},
   "outputs": [],
   "source": [
    "images = []"
   ]
  },
  {
   "cell_type": "code",
   "execution_count": 21,
   "id": "d47512bf",
   "metadata": {},
   "outputs": [
    {
     "name": "stdout",
     "output_type": "stream",
     "text": [
      "1.jpg\n",
      "10.jpg\n",
      "11.jpg\n",
      "12.jpg\n",
      "13.jpg\n",
      "14.jpg\n",
      "15.jpg\n",
      "2.jpg\n",
      "3.jpg\n",
      "4.jpg\n",
      "5.jpg\n",
      "6.jpg\n",
      "7.jpg\n",
      "8.jpg\n",
      "9.jpg\n"
     ]
    }
   ],
   "source": [
    "for im in chemins:\n",
    "    I = imread(path+'\\\\'+im)\n",
    "    print(im)\n",
    "    gray_image = rgb2gray(I)\n",
    "    I1 = resize(gray_image,(20,20))\n",
    "    I1 = I1.reshape(-1)\n",
    "    images.append(I1)"
   ]
  }
 ],
 "metadata": {
  "kernelspec": {
   "display_name": "Python 3 (ipykernel)",
   "language": "python",
   "name": "python3"
  },
  "language_info": {
   "codemirror_mode": {
    "name": "ipython",
    "version": 3
   },
   "file_extension": ".py",
   "mimetype": "text/x-python",
   "name": "python",
   "nbconvert_exporter": "python",
   "pygments_lexer": "ipython3",
   "version": "3.9.13"
  }
 },
 "nbformat": 4,
 "nbformat_minor": 5
}
